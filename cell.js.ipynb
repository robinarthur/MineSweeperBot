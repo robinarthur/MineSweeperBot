{
 "cells": [
  {
   "cell_type": "code",
   "execution_count": null,
   "metadata": {},
   "outputs": [],
   "source": [
    "import numpy as np\n",
    "from p5 import *\n",
    "\n",
    "class Cell:\n",
    "    def __init__(self, i, j, w):\n",
    "        self.i = i\n",
    "        self.j = j\n",
    "        self.x = i * w\n",
    "        self.y = j * w\n",
    "        self.w = w\n",
    "        self.neighborCount = 0\n",
    "    \n",
    "        self.bee = False\n",
    "        self.revealed = False\n",
    "\n",
    "    def show(self):\n",
    "        stroke(0)\n",
    "        noFill()\n",
    "        rect(self.x, self.y, self.w, self.w)\n",
    "        if self.revealed:\n",
    "            if self.bee:\n",
    "                fill(127)\n",
    "                ellipse(self.x + self.w * 0.5, self.y + self.y * 0.5, self.w * 0.5)\n",
    "            else:\n",
    "                fill(200)\n",
    "                rect(self.x, self.y, self.w, self.w)\n",
    "                if self.neighborCount > 0:\n",
    "                    textAlign(CENTER)\n",
    "                    fill(0)\n",
    "                    text(self.neighborCount, self.x + self.w *0.5, self.y + self.w - 6)\n",
    "                    \n",
    "    def countBees(self):\n",
    "        \n"
   ]
  }
 ],
 "metadata": {
  "kernelspec": {
   "display_name": "Python 3",
   "language": "python",
   "name": "python3"
  },
  "language_info": {
   "codemirror_mode": {
    "name": "ipython",
    "version": 3
   },
   "file_extension": ".py",
   "mimetype": "text/x-python",
   "name": "python",
   "nbconvert_exporter": "python",
   "pygments_lexer": "ipython3",
   "version": "3.5.2"
  }
 },
 "nbformat": 4,
 "nbformat_minor": 2
}
