{
 "cells": [
  {
   "cell_type": "code",
   "execution_count": null,
   "metadata": {},
   "outputs": [],
   "source": [
    "import numpy as np\n",
    "from p5 import *\n",
    "\n",
    "def Cell(i, j, w):\n",
    "    this.i = i\n",
    "    this.j = j\n",
    "    this.x = i * w\n",
    "    this.y = j * w\n",
    "    this.w = w\n",
    "    this.neighborCount = 0\n",
    "    \n",
    "    this.bee = False\n",
    "    this.revealed = False"
   ]
  }
 ],
 "metadata": {
  "kernelspec": {
   "display_name": "Python 3",
   "language": "python",
   "name": "python3"
  },
  "language_info": {
   "codemirror_mode": {
    "name": "ipython",
    "version": 3
   },
   "file_extension": ".py",
   "mimetype": "text/x-python",
   "name": "python",
   "nbconvert_exporter": "python",
   "pygments_lexer": "ipython3",
   "version": "3.5.2"
  }
 },
 "nbformat": 4,
 "nbformat_minor": 2
}
