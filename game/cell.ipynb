{
 "cells": [
  {
   "cell_type": "code",
   "execution_count": 1,
   "metadata": {},
   "outputs": [
    {
     "ename": "ModuleNotFoundError",
     "evalue": "No module named 'p5'",
     "output_type": "error",
     "traceback": [
      "\u001b[0;31m---------------------------------------------------------------------------\u001b[0m",
      "\u001b[0;31mModuleNotFoundError\u001b[0m                       Traceback (most recent call last)",
      "\u001b[0;32m<ipython-input-1-9d2728f2345b>\u001b[0m in \u001b[0;36m<module>\u001b[0;34m()\u001b[0m\n\u001b[1;32m      1\u001b[0m \u001b[0;32mimport\u001b[0m \u001b[0mnumpy\u001b[0m \u001b[0;32mas\u001b[0m \u001b[0mnp\u001b[0m\u001b[0;34m\u001b[0m\u001b[0m\n\u001b[0;32m----> 2\u001b[0;31m \u001b[0;32mfrom\u001b[0m \u001b[0mp5\u001b[0m \u001b[0;32mimport\u001b[0m \u001b[0;34m*\u001b[0m\u001b[0;34m\u001b[0m\u001b[0m\n\u001b[0m\u001b[1;32m      3\u001b[0m \u001b[0;31m#from sketch import *\u001b[0m\u001b[0;34m\u001b[0m\u001b[0;34m\u001b[0m\u001b[0m\n\u001b[1;32m      4\u001b[0m \u001b[0;34m\u001b[0m\u001b[0m\n\u001b[1;32m      5\u001b[0m \u001b[0;32mclass\u001b[0m \u001b[0mCell\u001b[0m\u001b[0;34m(\u001b[0m\u001b[0mobject\u001b[0m\u001b[0;34m)\u001b[0m\u001b[0;34m:\u001b[0m\u001b[0;34m\u001b[0m\u001b[0m\n",
      "\u001b[0;31mModuleNotFoundError\u001b[0m: No module named 'p5'"
     ]
    }
   ],
   "source": [
    "import numpy as np\n",
    "from p5 import *\n",
    "#from sketch import *\n",
    "\n",
    "class Cell(object):\n",
    "    def __init__(self, i, j, w):\n",
    "        self.__i = i\n",
    "        self.__j = j\n",
    "        self.__x = i * w\n",
    "        self.__y = j * w\n",
    "        self.__w = w\n",
    "        self.__neighborCount = 0\n",
    "    \n",
    "        self.__bee = False\n",
    "        self.__revealed = False\n",
    "        \n",
    "\n",
    "    def show(self):\n",
    "        stroke(0)\n",
    "        noFill()\n",
    "        rect(self.__x, self.__y, self.__w, self.__w)\n",
    "        if self.__revealed:\n",
    "            if self.__bee:\n",
    "                fill(127)\n",
    "                ellipse(self.__x + self.__w * 0.5, self.__y + self.__y * 0.5, self.__w * 0.5)\n",
    "            else:\n",
    "                fill(200)\n",
    "                rect(self.__x, self.__y, self.__w, self.__w)\n",
    "                if self.__neighborCount > 0:\n",
    "                    textAlign(CENTER)\n",
    "                    fill(0)\n",
    "                    text(self.__neighborCount, self.__x + self.__w *0.5, self.__y + self.__w - 6)\n",
    "                    \n",
    "    def countBees(self):\n",
    "        if self.__bee:\n",
    "            self.__neighborCount = -1\n",
    "            return\n",
    "        \n",
    "        total = 0\n",
    "        for xoff in range(-1,2):\n",
    "            i = self.__i + xoff\n",
    "            if i < 0 or i >= cols:\n",
    "                pass\n",
    "            for yoff in range(-1,2):\n",
    "                j = self.__y + yoff\n",
    "                if j < 0 or j >= rows:\n",
    "                    pass\n",
    "                neighbor = grid[i][j]\n",
    "                if neighbor.__bee:\n",
    "                    total =+ 1\n",
    "        self.__neighborCount = total\n",
    "    \n",
    "    def contains(self, x, y):\n",
    "        return x > self.__x and x < self.__x + self.__w and y > self.__y and y < self.__y + self.__w\n",
    "    \n",
    "    def reveal(self):\n",
    "        self.__revealed = True\n",
    "        if self.__neighborCount == 0:\n",
    "            # flood fill time\n",
    "            self.floodFill()\n",
    "    \n",
    "    def floodFill(self):\n",
    "        for xoff in range(-1, 2):\n",
    "            i = self.__i + xoff\n",
    "            if i < 0 or i >= cols:\n",
    "                pass\n",
    "            for yoff in range(-1, 2):\n",
    "                j = self.__y + yoff\n",
    "                if j < 0 or j >= rows:\n",
    "                    pass\n",
    "                \n",
    "                neighbor = grid[i][j]\n",
    "\n",
    "        \n",
    "\n",
    "        \n",
    "        \n",
    "        \n",
    "        \n"
   ]
  },
  {
   "cell_type": "code",
   "execution_count": 3,
   "metadata": {},
   "outputs": [
    {
     "name": "stdout",
     "output_type": "stream",
     "text": [
      "[0, 0, 0, 0, 0, 0, 0, 0, 0, 0]\n",
      "[0, 0, 0, 0, 0, 0, 0, 0, 0, 0]\n",
      "[0, 0, 0, 0, 0, 0, 0, 0, 0, 0]\n",
      "[0, 0, 0, 0, 0, 0, 0, 0, 0, 0]\n",
      "[0, 0, 0, 0, 0, 0, 0, 0, 0, 0]\n",
      "[0, 0, 0, 0, 0, 0, 0, 0, 0, 0]\n",
      "[0, 0, 0, 0, 0, 0, 0, 0, 0, 0]\n",
      "[0, 0, 0, 0, 0, 0, 0, 0, 0, 0]\n",
      "[0, 0, 0, 0, 0, 0, 0, 0, 0, 0]\n",
      "[0, 0, 0, 0, 0, 0, 0, 0, 0, 0]\n",
      "\n"
     ]
    },
    {
     "ename": "NameError",
     "evalue": "name 'Cell' is not defined",
     "output_type": "error",
     "traceback": [
      "\u001b[0;31m---------------------------------------------------------------------------\u001b[0m",
      "\u001b[0;31mNameError\u001b[0m                                 Traceback (most recent call last)",
      "\u001b[0;32m<ipython-input-3-77e0e4dd3021>\u001b[0m in \u001b[0;36m<module>\u001b[0;34m()\u001b[0m\n\u001b[1;32m     14\u001b[0m \u001b[0;32mfor\u001b[0m \u001b[0mcol\u001b[0m \u001b[0;32min\u001b[0m \u001b[0mrange\u001b[0m\u001b[0;34m(\u001b[0m\u001b[0mcols\u001b[0m\u001b[0;34m)\u001b[0m\u001b[0;34m:\u001b[0m\u001b[0;34m\u001b[0m\u001b[0m\n\u001b[1;32m     15\u001b[0m     \u001b[0;32mfor\u001b[0m \u001b[0mrow\u001b[0m \u001b[0;32min\u001b[0m \u001b[0mrange\u001b[0m\u001b[0;34m(\u001b[0m\u001b[0mrows\u001b[0m\u001b[0;34m)\u001b[0m\u001b[0;34m:\u001b[0m\u001b[0;34m\u001b[0m\u001b[0m\n\u001b[0;32m---> 16\u001b[0;31m         \u001b[0mc\u001b[0m \u001b[0;34m=\u001b[0m \u001b[0mCell\u001b[0m\u001b[0;34m(\u001b[0m\u001b[0mcol\u001b[0m\u001b[0;34m,\u001b[0m \u001b[0mrow\u001b[0m\u001b[0;34m,\u001b[0m \u001b[0mw\u001b[0m\u001b[0;34m)\u001b[0m\u001b[0;34m\u001b[0m\u001b[0m\n\u001b[0m\u001b[1;32m     17\u001b[0m         \u001b[0mgrid\u001b[0m\u001b[0;34m[\u001b[0m\u001b[0mcol\u001b[0m\u001b[0;34m]\u001b[0m\u001b[0;34m[\u001b[0m\u001b[0mrow\u001b[0m\u001b[0;34m]\u001b[0m \u001b[0;34m=\u001b[0m \u001b[0mc\u001b[0m\u001b[0;34m\u001b[0m\u001b[0m\n\u001b[1;32m     18\u001b[0m \u001b[0;34m\u001b[0m\u001b[0m\n",
      "\u001b[0;31mNameError\u001b[0m: name 'Cell' is not defined"
     ]
    }
   ],
   "source": [
    "cols = 10\n",
    "rows = 10\n",
    "w = 40\n",
    "# function to print the grid row-wise\n",
    "def p(o):\n",
    "    for index, i in enumerate(o):\n",
    "        print(o[index])\n",
    "    print(\"\")\n",
    "\n",
    "# make an empty grid with zeros\n",
    "grid = [[0 for x in range(cols)] for y in range(rows)]\n",
    "p(grid)\n",
    "# fill every element of the grid with a cell object\n",
    "for col in range(cols):\n",
    "    for row in range(rows):\n",
    "        c = Cell(col, row, w)\n",
    "        grid[col][row] = c    \n",
    "\n",
    "        \n",
    "p(grid)"
   ]
  },
  {
   "cell_type": "code",
   "execution_count": 4,
   "metadata": {},
   "outputs": [
    {
     "ename": "AttributeError",
     "evalue": "'int' object has no attribute 'reveal'",
     "output_type": "error",
     "traceback": [
      "\u001b[0;31m---------------------------------------------------------------------------\u001b[0m",
      "\u001b[0;31mAttributeError\u001b[0m                            Traceback (most recent call last)",
      "\u001b[0;32m<ipython-input-4-bde0757a8c2f>\u001b[0m in \u001b[0;36m<module>\u001b[0;34m()\u001b[0m\n\u001b[1;32m      1\u001b[0m \u001b[0mt\u001b[0m \u001b[0;34m=\u001b[0m \u001b[0mgrid\u001b[0m\u001b[0;34m[\u001b[0m\u001b[0;36m5\u001b[0m\u001b[0;34m]\u001b[0m\u001b[0;34m[\u001b[0m\u001b[0;36m5\u001b[0m\u001b[0;34m]\u001b[0m\u001b[0;34m\u001b[0m\u001b[0m\n\u001b[0;32m----> 2\u001b[0;31m \u001b[0mprint\u001b[0m\u001b[0;34m(\u001b[0m\u001b[0mt\u001b[0m\u001b[0;34m.\u001b[0m\u001b[0mreveal\u001b[0m\u001b[0;34m)\u001b[0m\u001b[0;34m\u001b[0m\u001b[0m\n\u001b[0m\u001b[1;32m      3\u001b[0m \u001b[0mt\u001b[0m\u001b[0;34m.\u001b[0m\u001b[0mreveal\u001b[0m\u001b[0;34m\u001b[0m\u001b[0m\n",
      "\u001b[0;31mAttributeError\u001b[0m: 'int' object has no attribute 'reveal'"
     ]
    }
   ],
   "source": [
    "t = grid[5][5]\n",
    "print(t.reveal)\n",
    "t.reveal"
   ]
  },
  {
   "cell_type": "code",
   "execution_count": null,
   "metadata": {},
   "outputs": [],
   "source": []
  }
 ],
 "metadata": {
  "kernelspec": {
   "display_name": "Python 3",
   "language": "python",
   "name": "python3"
  }
 },
 "nbformat": 4,
 "nbformat_minor": 2
}
