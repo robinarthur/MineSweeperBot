{
 "cells": [
  {
   "cell_type": "code",
   "execution_count": 1,
   "metadata": {},
   "outputs": [],
   "source": [
    "import numpy as np\n",
    "from p5 import *\n",
    "#from sketch import *\n",
    "\n",
    "class Cell(object):\n",
    "    def __init__(self, i, j, w):\n",
    "        self.__i = i\n",
    "        self.__j = j\n",
    "        self.__x = i * w\n",
    "        self.__y = j * w\n",
    "        self.__w = w\n",
    "        self.__neighborCount = 0\n",
    "    \n",
    "        self.__bee = False\n",
    "        self.__revealed = False\n",
    "        \n",
    "\n",
    "    def show(self):\n",
    "        stroke(0)\n",
    "        noFill()\n",
    "        rect(self.__x, self.__y, self.__w, self.__w)\n",
    "        if self.__revealed:\n",
    "            if self.__bee:\n",
    "                fill(127)\n",
    "                ellipse(self.__x + self.__w * 0.5, self.__y + self.__y * 0.5, self.__w * 0.5)\n",
    "            else:\n",
    "                fill(200)\n",
    "                rect(self.__x, self.__y, self.__w, self.__w)\n",
    "                if self.__neighborCount > 0:\n",
    "                    textAlign(CENTER)\n",
    "                    fill(0)\n",
    "                    text(self.__neighborCount, self.__x + self.__w *0.5, self.__y + self.__w - 6)\n",
    "                    \n",
    "    def countBees(self):\n",
    "        if self.__bee:\n",
    "            self.__neighborCount = -1\n",
    "            return\n",
    "        \n",
    "        total = 0\n",
    "        for xoff in range(-1,2):\n",
    "            i = self.__i + xoff\n",
    "            if i < 0 or i >= cols:\n",
    "                pass\n",
    "            for yoff in range(-1,2):\n",
    "                j = self.__y + yoff\n",
    "                if j < 0 or j >= rows:\n",
    "                    pass\n",
    "                neighbor = grid[i][j]\n",
    "                if neighbor.__bee:\n",
    "                    total =+ 1\n",
    "        self.__neighborCount = total\n",
    "    \n",
    "    def contains(self, x, y):\n",
    "        return x > self.__x and x < self.__x + self.__w and y > self.__y and y < self.__y + self.__w\n",
    "    \n",
    "    def reveal(self):\n",
    "        self.__revealed = True\n",
    "        if self.__neighborCount == 0:\n",
    "            # flood fill time\n",
    "            self.floodFill()\n",
    "    \n",
    "    def floodFill(self):\n",
    "        for xoff in range(-1, 2):\n",
    "            i = self.__i + xoff\n",
    "            if i < 0 or i >= cols:\n",
    "                pass\n",
    "            for yoff in range(-1, 2):\n",
    "                j = self.__y + yoff\n",
    "                if j < 0 or j >= rows:\n",
    "                    pass\n",
    "                \n",
    "                neighbor = grid[i][j]\n",
    "\n",
    "        \n",
    "\n",
    "        \n",
    "        \n",
    "        \n",
    "        \n"
   ]
  },
  {
   "cell_type": "code",
   "execution_count": 19,
   "metadata": {},
   "outputs": [
    {
     "name": "stdout",
     "output_type": "stream",
     "text": [
      "[0, 0, 0, 0, 0, 0, 0, 0, 0, 0]\n",
      "[0, 0, 0, 0, 0, 0, 0, 0, 0, 0]\n",
      "[0, 0, 0, 0, 0, 0, 0, 0, 0, 0]\n",
      "[0, 0, 0, 0, 0, 0, 0, 0, 0, 0]\n",
      "[0, 0, 0, 0, 0, 0, 0, 0, 0, 0]\n",
      "[0, 0, 0, 0, 0, 0, 0, 0, 0, 0]\n",
      "[0, 0, 0, 0, 0, 0, 0, 0, 0, 0]\n",
      "[0, 0, 0, 0, 0, 0, 0, 0, 0, 0]\n",
      "[0, 0, 0, 0, 0, 0, 0, 0, 0, 0]\n",
      "[0, 0, 0, 0, 0, 0, 0, 0, 0, 0]\n",
      "\n",
      "[<__main__.Cell object at 0x7fb1c85b3c50>, <__main__.Cell object at 0x7fb1c855aa58>, <__main__.Cell object at 0x7fb1c855a710>, <__main__.Cell object at 0x7fb1c855a908>, <__main__.Cell object at 0x7fb1c855ac50>, <__main__.Cell object at 0x7fb1c855ab70>, <__main__.Cell object at 0x7fb1c855ab38>, <__main__.Cell object at 0x7fb1c855ac88>, <__main__.Cell object at 0x7fb1c855ac18>, <__main__.Cell object at 0x7fb1c855a7b8>]\n",
      "[<__main__.Cell object at 0x7fb1c855aeb8>, <__main__.Cell object at 0x7fb1c855ae48>, <__main__.Cell object at 0x7fb1c855add8>, <__main__.Cell object at 0x7fb1c855ada0>, <__main__.Cell object at 0x7fb1c855aef0>, <__main__.Cell object at 0x7fb1c855ae80>, <__main__.Cell object at 0x7fb1c855ad68>, <__main__.Cell object at 0x7fb1c855afd0>, <__main__.Cell object at 0x7fb1c855cf28>, <__main__.Cell object at 0x7fb1c855c1d0>]\n",
      "[<__main__.Cell object at 0x7fb1c855c0f0>, <__main__.Cell object at 0x7fb1c855c080>, <__main__.Cell object at 0x7fb1c855c048>, <__main__.Cell object at 0x7fb1c855c208>, <__main__.Cell object at 0x7fb1c855c128>, <__main__.Cell object at 0x7fb1c855c240>, <__main__.Cell object at 0x7fb1c855c160>, <__main__.Cell object at 0x7fb1c855c278>, <__main__.Cell object at 0x7fb1c855c198>, <__main__.Cell object at 0x7fb1c855c4e0>]\n",
      "[<__main__.Cell object at 0x7fb1c855c400>, <__main__.Cell object at 0x7fb1c855c390>, <__main__.Cell object at 0x7fb1c855c358>, <__main__.Cell object at 0x7fb1c855c518>, <__main__.Cell object at 0x7fb1c855c438>, <__main__.Cell object at 0x7fb1c855c550>, <__main__.Cell object at 0x7fb1c855c470>, <__main__.Cell object at 0x7fb1c855c588>, <__main__.Cell object at 0x7fb1c855c4a8>, <__main__.Cell object at 0x7fb1c855c320>]\n",
      "[<__main__.Cell object at 0x7fb1c855c7f0>, <__main__.Cell object at 0x7fb1c855c710>, <__main__.Cell object at 0x7fb1c855c6a0>, <__main__.Cell object at 0x7fb1c855c668>, <__main__.Cell object at 0x7fb1c855c828>, <__main__.Cell object at 0x7fb1c855c748>, <__main__.Cell object at 0x7fb1c855c860>, <__main__.Cell object at 0x7fb1c855c780>, <__main__.Cell object at 0x7fb1c855c898>, <__main__.Cell object at 0x7fb1c855c7b8>]\n",
      "[<__main__.Cell object at 0x7fb1c855c630>, <__main__.Cell object at 0x7fb1c855cb00>, <__main__.Cell object at 0x7fb1c855ca20>, <__main__.Cell object at 0x7fb1c855c9b0>, <__main__.Cell object at 0x7fb1c855c978>, <__main__.Cell object at 0x7fb1c855cb38>, <__main__.Cell object at 0x7fb1c855ca58>, <__main__.Cell object at 0x7fb1c855cb70>, <__main__.Cell object at 0x7fb1c855ca90>, <__main__.Cell object at 0x7fb1c855cba8>]\n",
      "[<__main__.Cell object at 0x7fb1c855cac8>, <__main__.Cell object at 0x7fb1c855c940>, <__main__.Cell object at 0x7fb1c855cda0>, <__main__.Cell object at 0x7fb1c855cd30>, <__main__.Cell object at 0x7fb1c855ccc0>, <__main__.Cell object at 0x7fb1c855cc88>, <__main__.Cell object at 0x7fb1c855cdd8>, <__main__.Cell object at 0x7fb1c855cd68>, <__main__.Cell object at 0x7fb1c855cc50>, <__main__.Cell object at 0x7fb1c855cf98>]\n",
      "[<__main__.Cell object at 0x7fb1c855cf60>, <__main__.Cell object at 0x7fb1c855cef0>, <__main__.Cell object at 0x7fb1c855ceb8>, <__main__.Cell object at 0x7fb1c855ce80>, <__main__.Cell object at 0x7fb1c86ba240>, <__main__.Cell object at 0x7fb1c8561c50>, <__main__.Cell object at 0x7fb1c8561898>, <__main__.Cell object at 0x7fb1c85618d0>, <__main__.Cell object at 0x7fb1c8561cc0>, <__main__.Cell object at 0x7fb1c85612b0>]\n",
      "[<__main__.Cell object at 0x7fb1c8561128>, <__main__.Cell object at 0x7fb1c85610b8>, <__main__.Cell object at 0x7fb1c8561080>, <__main__.Cell object at 0x7fb1c85612e8>, <__main__.Cell object at 0x7fb1c8561160>, <__main__.Cell object at 0x7fb1c8561320>, <__main__.Cell object at 0x7fb1c8561198>, <__main__.Cell object at 0x7fb1c8561358>, <__main__.Cell object at 0x7fb1c85611d0>, <__main__.Cell object at 0x7fb1c8561390>]\n",
      "[<__main__.Cell object at 0x7fb1c8561208>, <__main__.Cell object at 0x7fb1c85613c8>, <__main__.Cell object at 0x7fb1c8561240>, <__main__.Cell object at 0x7fb1c8561400>, <__main__.Cell object at 0x7fb1c8561278>, <__main__.Cell object at 0x7fb1c8561780>, <__main__.Cell object at 0x7fb1c8561940>, <__main__.Cell object at 0x7fb1c8561978>, <__main__.Cell object at 0x7fb1c8561a20>, <__main__.Cell object at 0x7fb1c8591b70>]\n",
      "\n"
     ]
    }
   ],
   "source": [
    "cols = 10\n",
    "rows = 10\n",
    "w = 40\n",
    "# function to print the grid row-wise\n",
    "def p(o):\n",
    "    for index, i in enumerate(o):\n",
    "        print(o[index])\n",
    "    print(\"\")\n",
    "\n",
    "# make an empty grid with zeros\n",
    "grid = [[0 for x in range(cols)] for y in range(rows)]\n",
    "p(grid)\n",
    "# fill every element of the grid with a cell object\n",
    "for col in range(cols):\n",
    "    for row in range(rows):\n",
    "        c = Cell(col, row, w)\n",
    "        grid[col][row] = c    \n",
    "\n",
    "        \n",
    "p(grid)"
   ]
  },
  {
   "cell_type": "code",
   "execution_count": 20,
   "metadata": {},
   "outputs": [
    {
     "name": "stdout",
     "output_type": "stream",
     "text": [
      "<bound method Cell.reveal of <__main__.Cell object at 0x7fb1c855cb38>>\n"
     ]
    }
   ],
   "source": [
    "t = grid[5][5]\n",
    "print(t.reveal)"
   ]
  },
  {
   "cell_type": "code",
   "execution_count": null,
   "metadata": {},
   "outputs": [],
   "source": []
  }
 ],
 "metadata": {
  "kernelspec": {
   "display_name": "Python 3",
   "language": "python",
   "name": "python3"
  },
  "language_info": {
   "codemirror_mode": {
    "name": "ipython",
    "version": 3
   },
   "file_extension": ".py",
   "mimetype": "text/x-python",
   "name": "python",
   "nbconvert_exporter": "python",
   "pygments_lexer": "ipython3",
   "version": "3.5.2"
  }
 },
 "nbformat": 4,
 "nbformat_minor": 2
}
