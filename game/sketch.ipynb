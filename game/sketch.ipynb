{
 "cells": [
  {
   "cell_type": "code",
   "execution_count": 2,
   "metadata": {},
   "outputs": [
    {
     "ename": "ImportError",
     "evalue": "No module named 'cell.py'; 'cell' is not a package",
     "output_type": "error",
     "traceback": [
      "\u001b[0;31m---------------------------------------------------------------------------\u001b[0m",
      "\u001b[0;31mImportError\u001b[0m                               Traceback (most recent call last)",
      "\u001b[0;32m<ipython-input-2-68d8b1542121>\u001b[0m in \u001b[0;36m<module>\u001b[0;34m()\u001b[0m\n\u001b[1;32m      1\u001b[0m \u001b[0;32mimport\u001b[0m \u001b[0mnumpy\u001b[0m \u001b[0;32mas\u001b[0m \u001b[0mnp\u001b[0m\u001b[0;34m\u001b[0m\u001b[0m\n\u001b[1;32m      2\u001b[0m \u001b[0;32mfrom\u001b[0m \u001b[0mp5\u001b[0m \u001b[0;32mimport\u001b[0m \u001b[0;34m*\u001b[0m\u001b[0;34m\u001b[0m\u001b[0m\n\u001b[0;32m----> 3\u001b[0;31m \u001b[0;32mfrom\u001b[0m \u001b[0mcell\u001b[0m\u001b[0;34m.\u001b[0m\u001b[0mpy\u001b[0m \u001b[0;32mimport\u001b[0m \u001b[0;34m*\u001b[0m\u001b[0;34m\u001b[0m\u001b[0m\n\u001b[0m\u001b[1;32m      4\u001b[0m \u001b[0;34m\u001b[0m\u001b[0m\n\u001b[1;32m      5\u001b[0m \u001b[0;34m\u001b[0m\u001b[0m\n",
      "\u001b[0;31mImportError\u001b[0m: No module named 'cell.py'; 'cell' is not a package"
     ]
    }
   ],
   "source": [
    "import numpy as np\n",
    "from p5 import *\n",
    "import cell.py\n",
    "\n",
    "\n",
    "def make2DArray(cols, rows):\n",
    "    arr = np.array([range(cols) for row in range(rows)])\n",
    "    return arr\n",
    "\n",
    "#var grid\n",
    "#var cols\n",
    "#var rows\n",
    "\n",
    "w = 20\n",
    "\n",
    "totalBees = 30\n",
    "\n",
    "def setup():\n",
    "    size(401, 401)\n",
    "    cols = int(width / w)\n",
    "    rows = int(height / w)\n",
    "    grid = make2DArray(cols, rows)\n",
    "    for col in range(cols):\n",
    "        for row in range(rows):\n",
    "            grid[col][row] = Cell(col, row, w)\n",
    "            \n",
    "    # Pick totalBees spots\n",
    "    options = []\n",
    "    for col in range(cols):\n",
    "        for row in range(rows):\n",
    "            options.append([col, row])\n",
    "            \n",
    "    \n",
    "    for n in range(totalBees):\n",
    "        index = int(random(len(options)))\n",
    "        choice = options[index]\n",
    "        i = choice[0]\n",
    "        j = choice[1]\n",
    "        # Deletes that spot so it's no longer an option\n",
    "        options.remove(index, 1)\n",
    "        grid[i][j].bee = true\n",
    "    \n",
    "    \n",
    "    for col in range(cols):\n",
    "        for row in range(rows):\n",
    "            grid[col][row].countBees()\n",
    "            \n",
    "\n",
    "def gameOver():\n",
    "    for col in range(cols):\n",
    "        for row in range(rows):\n",
    "            grid[col][row].revealed = true\n",
    "        \n",
    "\n",
    "def mousePressed():\n",
    "    for col in range(cols):\n",
    "        for row in range(rows):\n",
    "            if grid[col][row].contains(mouseX, mouseY):\n",
    "                grid[col][row].reveal()\n",
    "                \n",
    "                if grid[col][row].bee:\n",
    "                    gameOver()\n",
    "\n",
    "                    \n",
    "def draw():\n",
    "    background(255)\n",
    "    for col in range(cols):\n",
    "        for row in range(rows):\n",
    "            grid[col][row].show()\n",
    "            \n",
    "run()"
   ]
  },
  {
   "cell_type": "code",
   "execution_count": null,
   "metadata": {},
   "outputs": [],
   "source": []
  }
 ],
 "metadata": {
  "kernelspec": {
   "display_name": "Python 3",
   "language": "python",
   "name": "python3"
  },
  "language_info": {
   "codemirror_mode": {
    "name": "ipython",
    "version": 3
   },
   "file_extension": ".py",
   "mimetype": "text/x-python",
   "name": "python",
   "nbconvert_exporter": "python",
   "pygments_lexer": "ipython3",
   "version": "3.5.2"
  }
 },
 "nbformat": 4,
 "nbformat_minor": 2
}
